{
 "cells": [
  {
   "cell_type": "code",
   "execution_count": 4,
   "metadata": {},
   "outputs": [],
   "source": [
    "import pandas as pd\n",
    "import numpy as np\n",
    "import plotly.express as px\n",
    "import plotly.graph_objects as go"
   ]
  },
  {
   "cell_type": "code",
   "execution_count": 6,
   "metadata": {},
   "outputs": [],
   "source": [
    "data = pd.read_csv(\"apple_products.csv\")"
   ]
  },
  {
   "cell_type": "code",
   "execution_count": null,
   "metadata": {},
   "outputs": [],
   "source": [
    "data.isnull().sum()\n",
    "# check there is any null value in the data"
   ]
  },
  {
   "cell_type": "markdown",
   "metadata": {},
   "source": [
    "#### 1 : what are the top 10 high-rated iphones on flipkart in india?"
   ]
  },
  {
   "cell_type": "code",
   "execution_count": 11,
   "metadata": {},
   "outputs": [
    {
     "name": "stdout",
     "output_type": "stream",
     "text": [
      "20     APPLE iPhone 11 Pro Max (Midnight Green, 64 GB)\n",
      "17         APPLE iPhone 11 Pro Max (Space Grey, 64 GB)\n",
      "16    APPLE iPhone 11 Pro Max (Midnight Green, 256 GB)\n",
      "15               APPLE iPhone 11 Pro Max (Gold, 64 GB)\n",
      "14              APPLE iPhone 11 Pro Max (Gold, 256 GB)\n",
      "0                    APPLE iPhone 8 Plus (Gold, 64 GB)\n",
      "29                     APPLE iPhone 12 (White, 128 GB)\n",
      "32          APPLE iPhone 12 Pro Max (Graphite, 128 GB)\n",
      "35                     APPLE iPhone 12 (Black, 128 GB)\n",
      "36                      APPLE iPhone 12 (Blue, 128 GB)\n",
      "Name: Product Name, dtype: object\n"
     ]
    }
   ],
   "source": [
    "highest_rated = data.sort_values(by = [\"Star Rating\"], ascending=False)\n",
    "highest_rated = highest_rated.head(10)\n",
    "print(highest_rated['Product Name'])"
   ]
  },
  {
   "cell_type": "markdown",
   "metadata": {},
   "source": []
  }
 ],
 "metadata": {
  "kernelspec": {
   "display_name": "base",
   "language": "python",
   "name": "python3"
  },
  "language_info": {
   "codemirror_mode": {
    "name": "ipython",
    "version": 3
   },
   "file_extension": ".py",
   "mimetype": "text/x-python",
   "name": "python",
   "nbconvert_exporter": "python",
   "pygments_lexer": "ipython3",
   "version": "3.12.7"
  }
 },
 "nbformat": 4,
 "nbformat_minor": 2
}
