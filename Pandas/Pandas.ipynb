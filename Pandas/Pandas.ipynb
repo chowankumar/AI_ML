{
 "cells": [
  {
   "cell_type": "code",
   "execution_count": 2,
   "id": "f5e1b922-2563-40e9-9392-358ec5578507",
   "metadata": {},
   "outputs": [],
   "source": [
    "import pandas as pd"
   ]
  },
  {
   "cell_type": "markdown",
   "id": "cc96da23-9e28-4c3f-a08f-f53dbaab1471",
   "metadata": {},
   "source": [
    "# DataFrame\n",
    "DataFrame is a two-dimensional, size-mutable, and heterogeneous data structure.  \n",
    "Head : give us the give row of the data  \n",
    "index : give us the changeable index"
   ]
  },
  {
   "cell_type": "code",
   "execution_count": null,
   "id": "5ad652f4-423e-4936-ac8d-5f4e3f07f5f7",
   "metadata": {},
   "outputs": [],
   "source": [
    "df = pd.DataFrame([[1,2,3],[4,5,6],[7,8,9]],columns=[\"A\",\"B\",\"C\"] , index = [\"x\",\"y\",\"z\"])\n",
    "df.head()"
   ]
  },
  {
   "cell_type": "code",
   "execution_count": null,
   "id": "da634aaf-eb90-4c28-897f-0dc0b2227287",
   "metadata": {},
   "outputs": [],
   "source": [
    "df.head(1)   #give us the 1st line"
   ]
  },
  {
   "cell_type": "code",
   "execution_count": null,
   "id": "6e5bc838-1d2c-4d22-b384-e62d7437d245",
   "metadata": {},
   "outputs": [],
   "source": [
    "df.info()  # give us the info of the dataframe"
   ]
  },
  {
   "cell_type": "code",
   "execution_count": null,
   "id": "8115931f-7e53-45a2-b994-fe5106343924",
   "metadata": {},
   "outputs": [],
   "source": [
    "df.describe() # give us the mode,count,median etc of the data"
   ]
  },
  {
   "cell_type": "code",
   "execution_count": null,
   "id": "ad005c78-b286-4484-9116-e685f8676776",
   "metadata": {},
   "outputs": [],
   "source": [
    "df.nunique() # unique value in the column\n",
    "df['A'].unique() # unique value of the specific column"
   ]
  },
  {
   "cell_type": "code",
   "execution_count": null,
   "id": "c5d3c7bf-9663-468a-b988-00186c1d292c",
   "metadata": {},
   "outputs": [],
   "source": [
    "df.shape #number of column and rows"
   ]
  },
  {
   "cell_type": "markdown",
   "id": "af37e303-0b83-4562-9bcb-afda87af663e",
   "metadata": {},
   "source": [
    "# Accessing Data"
   ]
  },
  {
   "cell_type": "code",
   "execution_count": 248,
   "id": "697d8c9c-a4fb-432f-8456-db87c5ed7123",
   "metadata": {},
   "outputs": [],
   "source": [
    "coffee = pd.read_csv('https://raw.githubusercontent.com/KeithGalli/complete-pandas-tutorial/refs/heads/master/warmup-data/coffee.csv')"
   ]
  },
  {
   "cell_type": "code",
   "execution_count": null,
   "id": "d0b35108-114c-4f4c-ad58-441fa74cd806",
   "metadata": {},
   "outputs": [],
   "source": [
    "# coffee\n",
    "# print(coffee)\n",
    "# display(coffee)\n",
    "# coffee.head()\n",
    "# coffee.head(10)\n",
    "# coffee.tail()\n",
    "# coffee.tail(10)\n",
    "#coffee.sample(10)   #give us the diff piece of data\n",
    "#coffee.sample(10, random_state=1) "
   ]
  },
  {
   "cell_type": "markdown",
   "id": "904c326a-390b-4478-8d24-6d52a947c4bf",
   "metadata": {},
   "source": [
    "### loc \n",
    "allow us by filter row and columns, Used to access rows and columns by labels (row/column names or indices).Includes both start and end indices when slicing."
   ]
  },
  {
   "cell_type": "code",
   "execution_count": null,
   "id": "5527e9ad-79b5-4ba0-bfd5-f1d1a70b23d6",
   "metadata": {},
   "outputs": [],
   "source": [
    "coffee.loc[[0,1,5]]"
   ]
  },
  {
   "cell_type": "code",
   "execution_count": null,
   "id": "216053c4-7c98-4eb0-9e60-10c81ccd5bb1",
   "metadata": {},
   "outputs": [],
   "source": [
    "coffee.loc[2:]    # index 2 onwards"
   ]
  },
  {
   "cell_type": "code",
   "execution_count": null,
   "id": "8d2896ae-f67c-4371-bdef-c979faa57703",
   "metadata": {},
   "outputs": [],
   "source": [
    "coffee.loc[2:12]   "
   ]
  },
  {
   "cell_type": "code",
   "execution_count": null,
   "id": "60448373-0799-4984-8e34-9240ba1765dd",
   "metadata": {},
   "outputs": [],
   "source": [
    "coffee.loc[2:8,[\"Day\",\"Units Sold\"]]"
   ]
  },
  {
   "cell_type": "code",
   "execution_count": 138,
   "id": "5cb60c9a-7a6f-4c1e-96b3-fcdf71894308",
   "metadata": {},
   "outputs": [],
   "source": [
    "coffee.loc[1:3, \"Units Sold\"] = 10\n",
    "# setting the value usnig loc"
   ]
  },
  {
   "cell_type": "markdown",
   "id": "6a251254-c9ee-4cef-ae6b-a7177e152e23",
   "metadata": {},
   "source": [
    "### iloc\n",
    "Used to access rows and columns by their integer positions (like Python lists). Does not include the end index in slicing."
   ]
  },
  {
   "cell_type": "code",
   "execution_count": null,
   "id": "5d088d62-ca30-4225-bb87-97c21cd477e9",
   "metadata": {},
   "outputs": [],
   "source": [
    "coffee.iloc[0:8 , [0,2]]"
   ]
  },
  {
   "cell_type": "markdown",
   "id": "46166eb9-51d5-4235-9de6-d7e01112bf38",
   "metadata": {},
   "source": [
    "### index"
   ]
  },
  {
   "cell_type": "code",
   "execution_count": null,
   "id": "8cbb1d65-457b-4f9f-853e-331769f153cb",
   "metadata": {},
   "outputs": [],
   "source": [
    "coffee.index = coffee[\"Day\"]"
   ]
  },
  {
   "cell_type": "code",
   "execution_count": null,
   "id": "06b86a0f-e044-4545-9996-ff190903cf9f",
   "metadata": {},
   "outputs": [],
   "source": [
    "coffee.loc[\"Monday\" : \"Wednesday\"]"
   ]
  },
  {
   "cell_type": "code",
   "execution_count": null,
   "id": "0abc614e-1ede-4c9b-b8c7-0f928091ffdf",
   "metadata": {},
   "outputs": [],
   "source": [
    "coffee.loc[\"Monday\" : \"Wednesday\" , \"Units Sold\"]"
   ]
  },
  {
   "cell_type": "markdown",
   "id": "2a6af111-ac0c-4369-9369-9b6d7aa033f0",
   "metadata": {},
   "source": [
    "### Accessing Single value .at / .iat"
   ]
  },
  {
   "cell_type": "code",
   "execution_count": null,
   "id": "38152f58-afea-47bc-b028-5e39e460f8c3",
   "metadata": {},
   "outputs": [],
   "source": [
    "coffee.at[0,\"Units Sold\"]"
   ]
  },
  {
   "cell_type": "markdown",
   "id": "b6448196-ba06-4641-aa62-affd76cccb99",
   "metadata": {},
   "source": [
    "### sort the data"
   ]
  },
  {
   "cell_type": "code",
   "execution_count": null,
   "id": "c7cda126-c5aa-4504-be63-97810e33b683",
   "metadata": {},
   "outputs": [],
   "source": [
    "coffee.sort_values(\"Units Sold\",)"
   ]
  },
  {
   "cell_type": "code",
   "execution_count": null,
   "id": "36f3e8fe-b09b-4c9e-aa86-f51e8b6276d5",
   "metadata": {},
   "outputs": [],
   "source": [
    "coffee.sort_values(\"Units Sold\",ascending = False)"
   ]
  },
  {
   "cell_type": "code",
   "execution_count": null,
   "id": "9e6b4945-9b0b-4211-9de3-49c045420518",
   "metadata": {},
   "outputs": [],
   "source": [
    "coffee.sort_values([\"Units Sold\",\"Coffee Type\"] , ascending = [1,0])"
   ]
  },
  {
   "cell_type": "markdown",
   "id": "c94937cf-802c-410f-adc8-8291454b7548",
   "metadata": {},
   "source": [
    "### Iteration"
   ]
  },
  {
   "cell_type": "code",
   "execution_count": null,
   "id": "f89d7fce-baa2-4f5f-8ffa-ee0b89e6524b",
   "metadata": {},
   "outputs": [],
   "source": [
    "for index, row in coffee.iterrows():\n",
    "    print(index)\n",
    "    print(row)\n",
    "    print(\"\\n\")"
   ]
  },
  {
   "cell_type": "markdown",
   "id": "fe7f1c68-f25b-4fce-bb7b-ce299fa279fa",
   "metadata": {},
   "source": [
    "for index, row in coffee.iterrows():\n",
    "    print(index)\n",
    "    print(row[\"Units Sold\"])\n",
    "    print(\"\\n\")"
   ]
  },
  {
   "cell_type": "markdown",
   "id": "a167b3fe-3494-48b0-bce1-6e9677818bda",
   "metadata": {},
   "source": [
    "# Filtering Data"
   ]
  },
  {
   "cell_type": "markdown",
   "id": "6d854821-4bb3-40bc-b8b4-f00bca57211c",
   "metadata": {},
   "source": [
    "### loc"
   ]
  },
  {
   "cell_type": "code",
   "execution_count": null,
   "id": "5f94bfa6-c2de-47ce-958c-a920a596bbf7",
   "metadata": {},
   "outputs": [],
   "source": [
    "coffee.loc[coffee['Units Sold'] > 25]"
   ]
  },
  {
   "cell_type": "code",
   "execution_count": null,
   "id": "864702f7-6822-4aad-9a04-8da4988eb877",
   "metadata": {},
   "outputs": [],
   "source": [
    "coffee.loc[coffee['Units Sold'] > 25 , ['Coffee Type']]"
   ]
  },
  {
   "cell_type": "markdown",
   "id": "eecd9895-3094-4a43-96d5-682924b70616",
   "metadata": {},
   "source": [
    "### binary method"
   ]
  },
  {
   "cell_type": "code",
   "execution_count": null,
   "id": "b12bb92a-6ee5-4c56-9bee-13eca89c6c4e",
   "metadata": {},
   "outputs": [],
   "source": [
    "coffee[coffee['Units Sold'] > 25] #without loc"
   ]
  },
  {
   "cell_type": "code",
   "execution_count": null,
   "id": "e34beea5-94b8-46ef-bf27-0e8fa49dbc3f",
   "metadata": {},
   "outputs": [],
   "source": [
    "coffee[coffee['Units Sold'] > 25 ] [['Coffee Type']] #without loc"
   ]
  },
  {
   "cell_type": "code",
   "execution_count": null,
   "id": "8b48b78a-c93c-42fa-8da2-859fefa96815",
   "metadata": {},
   "outputs": [],
   "source": [
    "coffee[(coffee['Units Sold'] > 25) & (coffee['Coffee Type'] == 'Latte')]"
   ]
  },
  {
   "cell_type": "code",
   "execution_count": null,
   "id": "26edd54a-2495-4ea2-9042-35202a020b97",
   "metadata": {},
   "outputs": [],
   "source": [
    "coffee[coffee['Day'].str.contains(\"Tue\")]"
   ]
  },
  {
   "cell_type": "code",
   "execution_count": null,
   "id": "fcf6def9-89da-434a-9d23-0a117334f2df",
   "metadata": {},
   "outputs": [],
   "source": [
    "coffee[coffee['Day'].str.contains(\"tue\", case=False)]"
   ]
  },
  {
   "cell_type": "markdown",
   "id": "2256a344-222c-4cab-a75b-c252e156480b",
   "metadata": {},
   "source": [
    "### query function"
   ]
  },
  {
   "cell_type": "code",
   "execution_count": 231,
   "id": "3ef51410-0de5-4db7-b42d-5fe8fe6be15a",
   "metadata": {},
   "outputs": [
    {
     "data": {
      "text/html": [
       "<div>\n",
       "<style scoped>\n",
       "    .dataframe tbody tr th:only-of-type {\n",
       "        vertical-align: middle;\n",
       "    }\n",
       "\n",
       "    .dataframe tbody tr th {\n",
       "        vertical-align: top;\n",
       "    }\n",
       "\n",
       "    .dataframe thead th {\n",
       "        text-align: right;\n",
       "    }\n",
       "</style>\n",
       "<table border=\"1\" class=\"dataframe\">\n",
       "  <thead>\n",
       "    <tr style=\"text-align: right;\">\n",
       "      <th></th>\n",
       "      <th>Day</th>\n",
       "      <th>Coffee Type</th>\n",
       "      <th>Units Sold</th>\n",
       "    </tr>\n",
       "  </thead>\n",
       "  <tbody>\n",
       "    <tr>\n",
       "      <th>0</th>\n",
       "      <td>Monday</td>\n",
       "      <td>Espresso</td>\n",
       "      <td>25</td>\n",
       "    </tr>\n",
       "    <tr>\n",
       "      <th>1</th>\n",
       "      <td>Monday</td>\n",
       "      <td>Latte</td>\n",
       "      <td>15</td>\n",
       "    </tr>\n",
       "  </tbody>\n",
       "</table>\n",
       "</div>"
      ],
      "text/plain": [
       "      Day Coffee Type  Units Sold\n",
       "0  Monday    Espresso          25\n",
       "1  Monday       Latte          15"
      ]
     },
     "execution_count": 231,
     "metadata": {},
     "output_type": "execute_result"
    }
   ],
   "source": [
    "coffee.query('Day == \"Monday\"')"
   ]
  },
  {
   "cell_type": "code",
   "execution_count": null,
   "id": "bc5c21e4-6bdd-4996-bf9b-3b954ef20255",
   "metadata": {},
   "outputs": [],
   "source": [
    "coffee.query('Day == \"Monday\" and Coffee_Type == \"Latte\"')"
   ]
  },
  {
   "cell_type": "markdown",
   "id": "fe16248c-6b84-4d14-9ee6-6f7358eec95f",
   "metadata": {},
   "source": [
    "# Add and Remove"
   ]
  },
  {
   "cell_type": "code",
   "execution_count": 264,
   "id": "e0fd4fed-f3e9-4669-9122-8107007c7fc6",
   "metadata": {},
   "outputs": [],
   "source": [
    " coffee['Units Sold'] = 10"
   ]
  },
  {
   "cell_type": "code",
   "execution_count": 266,
   "id": "f90a5d75-bde2-4510-9402-e759c9216840",
   "metadata": {},
   "outputs": [],
   "source": [
    "coffee['price'] = 4.99"
   ]
  },
  {
   "cell_type": "code",
   "execution_count": null,
   "id": "53d71163-d2cf-42cb-8c07-e4f11e76be98",
   "metadata": {},
   "outputs": [],
   "source": [
    "import numpy as np\n",
    "coffee['new_price'] = np.where(coffee['Coffee Type']== 'Espresso',3.99,5.99)\n",
    "coffee"
   ]
  },
  {
   "cell_type": "code",
   "execution_count": null,
   "id": "484a6645-2db8-4ee8-b00a-2dfa3886d7d2",
   "metadata": {},
   "outputs": [],
   "source": [
    "coffee.drop(0)"
   ]
  },
  {
   "cell_type": "code",
   "execution_count": null,
   "id": "ec669e67-c6d4-47ed-9a7f-f1f43636b2a4",
   "metadata": {},
   "outputs": [],
   "source": [
    "coffee.drop(columns=['price'])"
   ]
  },
  {
   "cell_type": "code",
   "execution_count": 272,
   "id": "8093b4c6-5276-4aa6-b741-85d66e9426ef",
   "metadata": {},
   "outputs": [],
   "source": [
    "coffee['revenue'] = coffee['Units Sold']* coffee['new_price']"
   ]
  },
  {
   "cell_type": "markdown",
   "id": "360821f1-94b1-485b-a500-5ebd4a0ff11c",
   "metadata": {},
   "source": [
    "### Rename the Column"
   ]
  },
  {
   "cell_type": "code",
   "execution_count": null,
   "id": "ac732420-1424-478f-9a71-7e2c884f6d45",
   "metadata": {},
   "outputs": [],
   "source": [
    "coffee.rename(columns={'revenue':'gain'})"
   ]
  },
  {
   "cell_type": "code",
   "execution_count": 14,
   "id": "97878d07-badf-45ed-8463-5439cfc482aa",
   "metadata": {},
   "outputs": [],
   "source": [
    "import pandas as pd"
   ]
  },
  {
   "cell_type": "code",
   "execution_count": 16,
   "id": "9aa48cf6-817a-4027-8655-7187d72fa6cb",
   "metadata": {},
   "outputs": [],
   "source": [
    "bios = pd.read_csv('https://raw.githubusercontent.com/KeithGalli/complete-pandas-tutorial/refs/heads/master/data/bios.csv')"
   ]
  },
  {
   "cell_type": "code",
   "execution_count": 21,
   "id": "fe80028b-48a7-414e-acd3-3180792b1320",
   "metadata": {},
   "outputs": [],
   "source": [
    "bios_new = bios.copy()"
   ]
  },
  {
   "cell_type": "code",
   "execution_count": 23,
   "id": "80eb3417-2a69-4ceb-9157-5ac24922da85",
   "metadata": {},
   "outputs": [],
   "source": [
    "bios_new['firstname'] = bios_new['name'].str.split(' ').str[0]"
   ]
  },
  {
   "cell_type": "code",
   "execution_count": null,
   "id": "48bb534d-d0cc-4060-98d4-6c6cefc03763",
   "metadata": {},
   "outputs": [],
   "source": [
    "bios_new"
   ]
  },
  {
   "cell_type": "markdown",
   "id": "3abee239-d9f5-4aa7-8cab-0725072f5486",
   "metadata": {},
   "source": [
    "### Change the date in to date object"
   ]
  },
  {
   "cell_type": "code",
   "execution_count": 28,
   "id": "f90a9793-a9db-41c2-bf39-4c7c27172c71",
   "metadata": {},
   "outputs": [],
   "source": [
    "bios_new['born_datetime']= pd.to_datetime(bios_new['born_date'])"
   ]
  },
  {
   "cell_type": "code",
   "execution_count": null,
   "id": "f2d5ad0e-0297-4152-aea6-361a8c42ae0e",
   "metadata": {},
   "outputs": [],
   "source": [
    "# create the year column from the object of the date\n",
    "bios_new['born_year'] = bios_new['born_datetime'].dt.year\n",
    "bios_new[['name','born_year']]"
   ]
  },
  {
   "cell_type": "markdown",
   "id": "19c5d317-c9a0-4627-8f1a-f5b01a765e80",
   "metadata": {},
   "source": [
    "###  Lamda and custom functions"
   ]
  },
  {
   "cell_type": "code",
   "execution_count": 45,
   "id": "2741a09c-3320-4ad1-bf02-5a0422131413",
   "metadata": {},
   "outputs": [],
   "source": [
    "bios['height_category'] = bios['height_cm'].apply(lambda x: 'Short' if x < 165 else ('Average' if x < 185 else 'Tall'))\n",
    "bios.head()"
   ]
  },
  {
   "cell_type": "code",
   "execution_count": 51,
   "id": "68313381-dd45-4169-998e-467669d0313b",
   "metadata": {},
   "outputs": [],
   "source": [
    "def category_athlete(row):\n",
    "    if row['height_cm'] < 175 and row ['weight_kg'] < 70:\n",
    "        return 'Lightweight'\n",
    "    elif row['height_cm'] < 185 and row ['weight_kg'] <= 80:\n",
    "         return 'Middleweight'\n",
    "    else :\n",
    "         return 'Heavyweight'\n",
    "bios['Category'] = bios.apply(category_athlete,axis = 1)"
   ]
  },
  {
   "cell_type": "code",
   "execution_count": null,
   "id": "0be946a2-8430-42db-aa0b-4650ec63eb7b",
   "metadata": {},
   "outputs": [],
   "source": [
    "bios"
   ]
  },
  {
   "cell_type": "markdown",
   "id": "9965bd6b-fd63-4057-b12f-043081dfc1ad",
   "metadata": {},
   "source": [
    "# Merging and Concatenating Data"
   ]
  },
  {
   "cell_type": "code",
   "execution_count": 60,
   "id": "6deb1532-9e82-4afe-b75f-8b574c853658",
   "metadata": {},
   "outputs": [],
   "source": [
    "nocs = pd.read_csv('https://raw.githubusercontent.com/KeithGalli/complete-pandas-tutorial/refs/heads/master/data/noc_regions.csv')\n",
    "bios = pd.read_csv('https://raw.githubusercontent.com/KeithGalli/complete-pandas-tutorial/refs/heads/master/data/bios.csv')"
   ]
  },
  {
   "cell_type": "code",
   "execution_count": null,
   "id": "3d17e02e-8c0d-4f3b-a407-091ee73c0caf",
   "metadata": {},
   "outputs": [],
   "source": [
    "bios_new = pd.merge(bios,nocs,left_on='born_country', right_on='NOC', how = 'left')\n",
    "bios_new"
   ]
  },
  {
   "cell_type": "code",
   "execution_count": 68,
   "id": "55b746e0-8d4e-4892-897a-e21ecb4a18d5",
   "metadata": {},
   "outputs": [],
   "source": [
    "bios_new.rename(columns={'region':'born_country_full'}, inplace=True)\n",
    "bios_new.head()"
   ]
  },
  {
   "cell_type": "code",
   "execution_count": null,
   "id": "94f2bef6-a98e-4382-ac31-249d7178c24e",
   "metadata": {},
   "outputs": [],
   "source": [
    "bios_new[bios_new['NOC_x'] != bios_new['born_country_full']][['name','NOC_x','born_country_full']]"
   ]
  },
  {
   "cell_type": "code",
   "execution_count": 80,
   "id": "fb280a44-1b24-457c-9c85-bdb27dae9a1b",
   "metadata": {},
   "outputs": [],
   "source": [
    "usa = bios[bios['born_country']=='USA'].copy()\n",
    "gbr = bios[bios['born_country']=='GBR'].copy()"
   ]
  },
  {
   "cell_type": "code",
   "execution_count": 88,
   "id": "e47d290d-7731-4443-b72e-4d8ebe69e0e3",
   "metadata": {},
   "outputs": [],
   "source": [
    "new_df = pd.concat([usa,gbr])"
   ]
  },
  {
   "cell_type": "markdown",
   "id": "ee3f2c25-4b43-4122-b5b3-09de7ddf99e3",
   "metadata": {},
   "source": [
    "# Handling NaN values"
   ]
  },
  {
   "cell_type": "code",
   "execution_count": 103,
   "id": "b0f93d66-25d0-4255-8680-3eeb067ddb2f",
   "metadata": {},
   "outputs": [],
   "source": [
    "import numpy as np\n",
    "coffee = pd.read_csv('https://raw.githubusercontent.com/KeithGalli/complete-pandas-tutorial/refs/heads/master/warmup-data/coffee.csv')"
   ]
  },
  {
   "cell_type": "code",
   "execution_count": 105,
   "id": "550a105f-faa6-4a32-a8cf-c3bb1503f035",
   "metadata": {},
   "outputs": [],
   "source": [
    "coffee.loc[[0,1], 'Units Sold'] = np.nan"
   ]
  },
  {
   "cell_type": "code",
   "execution_count": 109,
   "id": "7d81abb2-c53e-4e8e-9cff-8b1a967ef2e1",
   "metadata": {},
   "outputs": [
    {
     "data": {
      "text/plain": [
       "Day            0\n",
       "Coffee Type    0\n",
       "Units Sold     2\n",
       "dtype: int64"
      ]
     },
     "execution_count": 109,
     "metadata": {},
     "output_type": "execute_result"
    }
   ],
   "source": [
    "coffee.isna().sum()"
   ]
  },
  {
   "cell_type": "code",
   "execution_count": 119,
   "id": "9d150931-a7e9-491a-912e-62e6af209592",
   "metadata": {},
   "outputs": [
    {
     "data": {
      "text/html": [
       "<div>\n",
       "<style scoped>\n",
       "    .dataframe tbody tr th:only-of-type {\n",
       "        vertical-align: middle;\n",
       "    }\n",
       "\n",
       "    .dataframe tbody tr th {\n",
       "        vertical-align: top;\n",
       "    }\n",
       "\n",
       "    .dataframe thead th {\n",
       "        text-align: right;\n",
       "    }\n",
       "</style>\n",
       "<table border=\"1\" class=\"dataframe\">\n",
       "  <thead>\n",
       "    <tr style=\"text-align: right;\">\n",
       "      <th></th>\n",
       "      <th>Day</th>\n",
       "      <th>Coffee Type</th>\n",
       "      <th>Units Sold</th>\n",
       "    </tr>\n",
       "  </thead>\n",
       "  <tbody>\n",
       "    <tr>\n",
       "      <th>0</th>\n",
       "      <td>Monday</td>\n",
       "      <td>Espresso</td>\n",
       "      <td>35.0</td>\n",
       "    </tr>\n",
       "    <tr>\n",
       "      <th>1</th>\n",
       "      <td>Monday</td>\n",
       "      <td>Latte</td>\n",
       "      <td>35.0</td>\n",
       "    </tr>\n",
       "    <tr>\n",
       "      <th>2</th>\n",
       "      <td>Tuesday</td>\n",
       "      <td>Espresso</td>\n",
       "      <td>30.0</td>\n",
       "    </tr>\n",
       "    <tr>\n",
       "      <th>3</th>\n",
       "      <td>Tuesday</td>\n",
       "      <td>Latte</td>\n",
       "      <td>20.0</td>\n",
       "    </tr>\n",
       "    <tr>\n",
       "      <th>4</th>\n",
       "      <td>Wednesday</td>\n",
       "      <td>Espresso</td>\n",
       "      <td>35.0</td>\n",
       "    </tr>\n",
       "    <tr>\n",
       "      <th>5</th>\n",
       "      <td>Wednesday</td>\n",
       "      <td>Latte</td>\n",
       "      <td>25.0</td>\n",
       "    </tr>\n",
       "    <tr>\n",
       "      <th>6</th>\n",
       "      <td>Thursday</td>\n",
       "      <td>Espresso</td>\n",
       "      <td>40.0</td>\n",
       "    </tr>\n",
       "    <tr>\n",
       "      <th>7</th>\n",
       "      <td>Thursday</td>\n",
       "      <td>Latte</td>\n",
       "      <td>30.0</td>\n",
       "    </tr>\n",
       "    <tr>\n",
       "      <th>8</th>\n",
       "      <td>Friday</td>\n",
       "      <td>Espresso</td>\n",
       "      <td>45.0</td>\n",
       "    </tr>\n",
       "    <tr>\n",
       "      <th>9</th>\n",
       "      <td>Friday</td>\n",
       "      <td>Latte</td>\n",
       "      <td>35.0</td>\n",
       "    </tr>\n",
       "    <tr>\n",
       "      <th>10</th>\n",
       "      <td>Saturday</td>\n",
       "      <td>Espresso</td>\n",
       "      <td>45.0</td>\n",
       "    </tr>\n",
       "    <tr>\n",
       "      <th>11</th>\n",
       "      <td>Saturday</td>\n",
       "      <td>Latte</td>\n",
       "      <td>35.0</td>\n",
       "    </tr>\n",
       "    <tr>\n",
       "      <th>12</th>\n",
       "      <td>Sunday</td>\n",
       "      <td>Espresso</td>\n",
       "      <td>45.0</td>\n",
       "    </tr>\n",
       "    <tr>\n",
       "      <th>13</th>\n",
       "      <td>Sunday</td>\n",
       "      <td>Latte</td>\n",
       "      <td>35.0</td>\n",
       "    </tr>\n",
       "  </tbody>\n",
       "</table>\n",
       "</div>"
      ],
      "text/plain": [
       "          Day Coffee Type  Units Sold\n",
       "0      Monday    Espresso        35.0\n",
       "1      Monday       Latte        35.0\n",
       "2     Tuesday    Espresso        30.0\n",
       "3     Tuesday       Latte        20.0\n",
       "4   Wednesday    Espresso        35.0\n",
       "5   Wednesday       Latte        25.0\n",
       "6    Thursday    Espresso        40.0\n",
       "7    Thursday       Latte        30.0\n",
       "8      Friday    Espresso        45.0\n",
       "9      Friday       Latte        35.0\n",
       "10   Saturday    Espresso        45.0\n",
       "11   Saturday       Latte        35.0\n",
       "12     Sunday    Espresso        45.0\n",
       "13     Sunday       Latte        35.0"
      ]
     },
     "execution_count": 119,
     "metadata": {},
     "output_type": "execute_result"
    }
   ],
   "source": [
    "coffee.fillna(10000)\n",
    "coffee.fillna(coffee['Units Sold'].mean())"
   ]
  },
  {
   "cell_type": "code",
   "execution_count": null,
   "id": "94d1ee68-d6b0-4526-a5b2-af7ddc539ed9",
   "metadata": {},
   "outputs": [],
   "source": [
    "coffee['Units Sold'].interpolate()"
   ]
  },
  {
   "cell_type": "code",
   "execution_count": null,
   "id": "b8030990-cfe5-4a4f-8790-4740d3003e34",
   "metadata": {},
   "outputs": [],
   "source": [
    "coffee.dropna()\n",
    "coffee = coffee.dropna(subset=['Units Sold'], inplace = True)"
   ]
  },
  {
   "cell_type": "code",
   "execution_count": null,
   "id": "f2129915-7a96-4090-8196-15eaeb73cd85",
   "metadata": {},
   "outputs": [],
   "source": [
    "coffee[coffee['Units Sold'].notna()]"
   ]
  },
  {
   "cell_type": "markdown",
   "id": "1fe0d5f8-7d63-4177-b4b5-f8568cfe4cac",
   "metadata": {},
   "source": [
    "# Aggregating Data"
   ]
  },
  {
   "cell_type": "code",
   "execution_count": null,
   "id": "42c44080-97e9-4467-adf6-447796c54322",
   "metadata": {},
   "outputs": [],
   "source": [
    "bios['born_city'].value_counts()"
   ]
  },
  {
   "cell_type": "code",
   "execution_count": null,
   "id": "9e6d4d21-e109-49ea-b8ae-b7532749abea",
   "metadata": {},
   "outputs": [],
   "source": [
    "bios[bios['born_country'] == 'USA']['born_region'].value_counts()"
   ]
  },
  {
   "cell_type": "code",
   "execution_count": null,
   "id": "e73734b6-8f65-4604-958f-d54645607557",
   "metadata": {},
   "outputs": [],
   "source": [
    " coffee.groupby(['Coffee Type'])['Units Sold'].mean()"
   ]
  },
  {
   "cell_type": "code",
   "execution_count": null,
   "id": "4b4ad6a9-bd77-4322-aea3-8b9946703e89",
   "metadata": {},
   "outputs": [],
   "source": [
    " coffee.groupby(['Coffee Type'])['Units Sold'].sum()"
   ]
  },
  {
   "cell_type": "code",
   "execution_count": null,
   "id": "bc2a785a-c084-4eb6-b0ee-c7a42bb886e8",
   "metadata": {},
   "outputs": [],
   "source": [
    "coffee['price'] = 4.99\n",
    "coffee.groupby(['Coffee Type', 'Day']).agg({'Units Sold': 'sum' , 'price' : 'mean'})"
   ]
  },
  {
   "cell_type": "code",
   "execution_count": null,
   "id": "bb3e75f6-e966-4672-ac41-1427867ca502",
   "metadata": {},
   "outputs": [],
   "source": [
    "coffee.groupby(['Coffee Type']).agg({'Units Sold': 'sum' , 'price' : 'mean'})"
   ]
  }
 ],
 "metadata": {
  "kernelspec": {
   "display_name": "Python 3 (ipykernel)",
   "language": "python",
   "name": "python3"
  },
  "language_info": {
   "codemirror_mode": {
    "name": "ipython",
    "version": 3
   },
   "file_extension": ".py",
   "mimetype": "text/x-python",
   "name": "python",
   "nbconvert_exporter": "python",
   "pygments_lexer": "ipython3",
   "version": "3.12.7"
  }
 },
 "nbformat": 4,
 "nbformat_minor": 5
}
