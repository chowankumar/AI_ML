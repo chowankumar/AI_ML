{
 "cells": [
  {
   "cell_type": "code",
   "execution_count": 2,
   "id": "f5e1b922-2563-40e9-9392-358ec5578507",
   "metadata": {},
   "outputs": [],
   "source": [
    "import pandas as pd"
   ]
  },
  {
   "cell_type": "markdown",
   "id": "cc96da23-9e28-4c3f-a08f-f53dbaab1471",
   "metadata": {},
   "source": [
    "# DataFrame\n",
    "DataFrame is a two-dimensional, size-mutable, and heterogeneous data structure.  \n",
    "Head : give us the give row of the data  \n",
    "index : give us the changeable index"
   ]
  },
  {
   "cell_type": "code",
   "execution_count": null,
   "id": "5ad652f4-423e-4936-ac8d-5f4e3f07f5f7",
   "metadata": {},
   "outputs": [],
   "source": [
    "df = pd.DataFrame([[1,2,3],[4,5,6],[7,8,9]],columns=[\"A\",\"B\",\"C\"] , index = [\"x\",\"y\",\"z\"])\n",
    "df.head()"
   ]
  },
  {
   "cell_type": "code",
   "execution_count": null,
   "id": "da634aaf-eb90-4c28-897f-0dc0b2227287",
   "metadata": {},
   "outputs": [],
   "source": [
    "df.head(1)   #give us the 1st line"
   ]
  },
  {
   "cell_type": "code",
   "execution_count": null,
   "id": "6e5bc838-1d2c-4d22-b384-e62d7437d245",
   "metadata": {},
   "outputs": [],
   "source": [
    "df.info()  # give us the info of the dataframe"
   ]
  },
  {
   "cell_type": "code",
   "execution_count": null,
   "id": "8115931f-7e53-45a2-b994-fe5106343924",
   "metadata": {},
   "outputs": [],
   "source": [
    "df.describe() # give us the mode,count,median etc of the data"
   ]
  },
  {
   "cell_type": "code",
   "execution_count": null,
   "id": "ad005c78-b286-4484-9116-e685f8676776",
   "metadata": {},
   "outputs": [],
   "source": [
    "df.nunique() # unique value in the column\n",
    "df['A'].unique() # unique value of the specific column"
   ]
  },
  {
   "cell_type": "code",
   "execution_count": null,
   "id": "c5d3c7bf-9663-468a-b988-00186c1d292c",
   "metadata": {},
   "outputs": [],
   "source": [
    "df.shape #number of column and rows"
   ]
  },
  {
   "cell_type": "markdown",
   "id": "af37e303-0b83-4562-9bcb-afda87af663e",
   "metadata": {},
   "source": [
    "# Accessing Data"
   ]
  },
  {
   "cell_type": "code",
   "execution_count": 147,
   "id": "697d8c9c-a4fb-432f-8456-db87c5ed7123",
   "metadata": {},
   "outputs": [],
   "source": [
    "coffee = pd.read_csv('https://raw.githubusercontent.com/KeithGalli/complete-pandas-tutorial/refs/heads/master/warmup-data/coffee.csv')"
   ]
  },
  {
   "cell_type": "code",
   "execution_count": null,
   "id": "d0b35108-114c-4f4c-ad58-441fa74cd806",
   "metadata": {},
   "outputs": [],
   "source": [
    "# coffee\n",
    "# print(coffee)\n",
    "# display(coffee)\n",
    "# coffee.head()\n",
    "# coffee.head(10)\n",
    "# coffee.tail()\n",
    "# coffee.tail(10)\n",
    "#coffee.sample(10)   #give us the diff piece of data\n",
    "#coffee.sample(10, random_state=1) "
   ]
  },
  {
   "cell_type": "markdown",
   "id": "904c326a-390b-4478-8d24-6d52a947c4bf",
   "metadata": {},
   "source": [
    "### loc \n",
    "allow us by filter row and columns, Used to access rows and columns by labels (row/column names or indices).Includes both start and end indices when slicing."
   ]
  },
  {
   "cell_type": "code",
   "execution_count": null,
   "id": "5527e9ad-79b5-4ba0-bfd5-f1d1a70b23d6",
   "metadata": {},
   "outputs": [],
   "source": [
    "coffee.loc[[0,1,5]]"
   ]
  },
  {
   "cell_type": "code",
   "execution_count": null,
   "id": "216053c4-7c98-4eb0-9e60-10c81ccd5bb1",
   "metadata": {},
   "outputs": [],
   "source": [
    "coffee.loc[2:]    # index 2 onwards"
   ]
  },
  {
   "cell_type": "code",
   "execution_count": null,
   "id": "8d2896ae-f67c-4371-bdef-c979faa57703",
   "metadata": {},
   "outputs": [],
   "source": [
    "coffee.loc[2:12]   "
   ]
  },
  {
   "cell_type": "code",
   "execution_count": null,
   "id": "60448373-0799-4984-8e34-9240ba1765dd",
   "metadata": {},
   "outputs": [],
   "source": [
    "coffee.loc[2:8,[\"Day\",\"Units Sold\"]]"
   ]
  },
  {
   "cell_type": "code",
   "execution_count": 138,
   "id": "5cb60c9a-7a6f-4c1e-96b3-fcdf71894308",
   "metadata": {},
   "outputs": [],
   "source": [
    "coffee.loc[1:3, \"Units Sold\"] = 10\n",
    "# setting the value usnig loc"
   ]
  },
  {
   "cell_type": "markdown",
   "id": "6a251254-c9ee-4cef-ae6b-a7177e152e23",
   "metadata": {},
   "source": [
    "### iloc\n",
    "Used to access rows and columns by their integer positions (like Python lists). Does not include the end index in slicing."
   ]
  },
  {
   "cell_type": "code",
   "execution_count": null,
   "id": "5d088d62-ca30-4225-bb87-97c21cd477e9",
   "metadata": {},
   "outputs": [],
   "source": [
    "coffee.iloc[0:8 , [0,2]]"
   ]
  },
  {
   "cell_type": "markdown",
   "id": "46166eb9-51d5-4235-9de6-d7e01112bf38",
   "metadata": {},
   "source": [
    "### index"
   ]
  },
  {
   "cell_type": "code",
   "execution_count": null,
   "id": "8cbb1d65-457b-4f9f-853e-331769f153cb",
   "metadata": {},
   "outputs": [],
   "source": [
    "coffee.index = coffee[\"Day\"]"
   ]
  },
  {
   "cell_type": "code",
   "execution_count": null,
   "id": "06b86a0f-e044-4545-9996-ff190903cf9f",
   "metadata": {},
   "outputs": [],
   "source": [
    "coffee.loc[\"Monday\" : \"Wednesday\"]"
   ]
  },
  {
   "cell_type": "code",
   "execution_count": null,
   "id": "0abc614e-1ede-4c9b-b8c7-0f928091ffdf",
   "metadata": {},
   "outputs": [],
   "source": [
    "coffee.loc[\"Monday\" : \"Wednesday\" , \"Units Sold\"]"
   ]
  },
  {
   "cell_type": "markdown",
   "id": "2a6af111-ac0c-4369-9369-9b6d7aa033f0",
   "metadata": {},
   "source": [
    "### Accessing Single value .at / .iat"
   ]
  },
  {
   "cell_type": "code",
   "execution_count": null,
   "id": "38152f58-afea-47bc-b028-5e39e460f8c3",
   "metadata": {},
   "outputs": [],
   "source": [
    "coffee.at[0,\"Units Sold\"]"
   ]
  },
  {
   "cell_type": "markdown",
   "id": "b6448196-ba06-4641-aa62-affd76cccb99",
   "metadata": {},
   "source": [
    "### sort the data"
   ]
  },
  {
   "cell_type": "code",
   "execution_count": null,
   "id": "c7cda126-c5aa-4504-be63-97810e33b683",
   "metadata": {},
   "outputs": [],
   "source": [
    "coffee.sort_values(\"Units Sold\",)"
   ]
  },
  {
   "cell_type": "code",
   "execution_count": null,
   "id": "36f3e8fe-b09b-4c9e-aa86-f51e8b6276d5",
   "metadata": {},
   "outputs": [],
   "source": [
    "coffee.sort_values(\"Units Sold\",ascending = False)"
   ]
  },
  {
   "cell_type": "code",
   "execution_count": null,
   "id": "9e6b4945-9b0b-4211-9de3-49c045420518",
   "metadata": {},
   "outputs": [],
   "source": [
    "coffee.sort_values([\"Units Sold\",\"Coffee Type\"] , ascending = [1,0])"
   ]
  },
  {
   "cell_type": "markdown",
   "id": "c94937cf-802c-410f-adc8-8291454b7548",
   "metadata": {},
   "source": [
    "### Iteration"
   ]
  },
  {
   "cell_type": "code",
   "execution_count": null,
   "id": "f89d7fce-baa2-4f5f-8ffa-ee0b89e6524b",
   "metadata": {},
   "outputs": [],
   "source": [
    "for index, row in coffee.iterrows():\n",
    "    print(index)\n",
    "    print(row)\n",
    "    print(\"\\n\")"
   ]
  },
  {
   "cell_type": "code",
   "execution_count": null,
   "id": "cb72cd76-ee2d-4069-927a-d260cbc6b80f",
   "metadata": {},
   "outputs": [],
   "source": [
    "for index, row in coffee.iterrows():\n",
    "    print(index)\n",
    "    print(row[\"Units Sold\"])\n",
    "    print(\"\\n\")"
   ]
  },
  {
   "cell_type": "markdown",
   "id": "a167b3fe-3494-48b0-bce1-6e9677818bda",
   "metadata": {},
   "source": [
    "# Filtering Data"
   ]
  },
  {
   "cell_type": "markdown",
   "id": "6d854821-4bb3-40bc-b8b4-f00bca57211c",
   "metadata": {},
   "source": [
    "### loc"
   ]
  },
  {
   "cell_type": "code",
   "execution_count": null,
   "id": "5f94bfa6-c2de-47ce-958c-a920a596bbf7",
   "metadata": {},
   "outputs": [],
   "source": [
    "coffee.loc[coffee['Units Sold'] > 25]"
   ]
  },
  {
   "cell_type": "code",
   "execution_count": null,
   "id": "864702f7-6822-4aad-9a04-8da4988eb877",
   "metadata": {},
   "outputs": [],
   "source": [
    "coffee.loc[coffee['Units Sold'] > 25 , ['Coffee Type']]"
   ]
  },
  {
   "cell_type": "markdown",
   "id": "eecd9895-3094-4a43-96d5-682924b70616",
   "metadata": {},
   "source": [
    "### binary method"
   ]
  },
  {
   "cell_type": "code",
   "execution_count": null,
   "id": "b12bb92a-6ee5-4c56-9bee-13eca89c6c4e",
   "metadata": {},
   "outputs": [],
   "source": [
    "coffee[coffee['Units Sold'] > 25] #without loc"
   ]
  },
  {
   "cell_type": "code",
   "execution_count": null,
   "id": "e34beea5-94b8-46ef-bf27-0e8fa49dbc3f",
   "metadata": {},
   "outputs": [],
   "source": [
    "coffee[coffee['Units Sold'] > 25 ] [['Coffee Type']] #without loc"
   ]
  },
  {
   "cell_type": "code",
   "execution_count": null,
   "id": "8b48b78a-c93c-42fa-8da2-859fefa96815",
   "metadata": {},
   "outputs": [],
   "source": [
    "coffee[(coffee['Units Sold'] > 25) & (coffee['Coffee Type'] == 'Latte')]"
   ]
  },
  {
   "cell_type": "code",
   "execution_count": null,
   "id": "26edd54a-2495-4ea2-9042-35202a020b97",
   "metadata": {},
   "outputs": [],
   "source": [
    "coffee[coffee['Day'].str.contains(\"Tue\")]"
   ]
  },
  {
   "cell_type": "code",
   "execution_count": null,
   "id": "fcf6def9-89da-434a-9d23-0a117334f2df",
   "metadata": {},
   "outputs": [],
   "source": [
    "coffee[coffee['Day'].str.contains(\"tue\", case=False)]"
   ]
  }
 ],
 "metadata": {
  "kernelspec": {
   "display_name": "Python 3 (ipykernel)",
   "language": "python",
   "name": "python3"
  },
  "language_info": {
   "codemirror_mode": {
    "name": "ipython",
    "version": 3
   },
   "file_extension": ".py",
   "mimetype": "text/x-python",
   "name": "python",
   "nbconvert_exporter": "python",
   "pygments_lexer": "ipython3",
   "version": "3.12.7"
  }
 },
 "nbformat": 4,
 "nbformat_minor": 5
}
