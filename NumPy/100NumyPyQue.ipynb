{
 "cells": [
  {
   "cell_type": "markdown",
   "id": "ff0e33f9-18dd-4593-b254-398029b8822f",
   "metadata": {},
   "source": [
    "### 1.Import the numpy package under the name np?"
   ]
  },
  {
   "cell_type": "code",
   "execution_count": 4,
   "id": "0f0102c2-ca20-4e80-891f-e690f99fb44e",
   "metadata": {},
   "outputs": [],
   "source": [
    "import numpy as np"
   ]
  },
  {
   "cell_type": "markdown",
   "id": "06a0f993-158a-4d77-934d-29b4c0192ded",
   "metadata": {},
   "source": [
    "### 2.Print the numpy version and configuration?"
   ]
  },
  {
   "cell_type": "code",
   "execution_count": null,
   "id": "ab4e24d4-b03d-4756-89e3-6d8a14cc7160",
   "metadata": {},
   "outputs": [
    {
     "data": {
      "text/plain": [
       "'1.26.4'"
      ]
     },
     "execution_count": 8,
     "metadata": {},
     "output_type": "execute_result"
    }
   ],
   "source": [
    "np.__version__"
   ]
  },
  {
   "cell_type": "code",
   "execution_count": null,
   "id": "f5a49f07-60ec-4129-aa9b-28d90b937e56",
   "metadata": {},
   "outputs": [],
   "source": [
    "np.show_config()"
   ]
  },
  {
   "cell_type": "markdown",
   "id": "740c838e-2913-44e5-b07f-9eb4775e4897",
   "metadata": {},
   "source": [
    "### 3.create a null vector of size 10"
   ]
  },
  {
   "cell_type": "code",
   "execution_count": 22,
   "id": "76732404-3824-4b67-b545-7c227fb7b50b",
   "metadata": {},
   "outputs": [
    {
     "data": {
      "text/plain": [
       "array([0., 0., 0., 0., 0., 0., 0., 0., 0., 0.])"
      ]
     },
     "execution_count": 22,
     "metadata": {},
     "output_type": "execute_result"
    }
   ],
   "source": [
    "null_vector = np.zeros(10)\n",
    "null_vector"
   ]
  },
  {
   "cell_type": "markdown",
   "id": "61c5697b-d117-4bbc-8f6a-4bd6cb38bad0",
   "metadata": {},
   "source": [
    "### 3.How to find the memory size of any array?"
   ]
  }
 ],
 "metadata": {
  "kernelspec": {
   "display_name": "Python 3 (ipykernel)",
   "language": "python",
   "name": "python3"
  },
  "language_info": {
   "codemirror_mode": {
    "name": "ipython",
    "version": 3
   },
   "file_extension": ".py",
   "mimetype": "text/x-python",
   "name": "python",
   "nbconvert_exporter": "python",
   "pygments_lexer": "ipython3",
   "version": "3.12.7"
  }
 },
 "nbformat": 4,
 "nbformat_minor": 5
}
